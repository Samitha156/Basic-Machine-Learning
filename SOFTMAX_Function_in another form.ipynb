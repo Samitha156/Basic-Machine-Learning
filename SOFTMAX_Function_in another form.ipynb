{
 "cells": [
  {
   "cell_type": "markdown",
   "metadata": {},
   "source": [
    "<b>SOFTMAX *function* </b>\n",
    "\n",
    "<b>f(x) = 1/(1+e<sup>-x</sup>)</b>"
   ]
  },
  {
   "cell_type": "code",
   "execution_count": 2,
   "metadata": {},
   "outputs": [],
   "source": [
    "import numpy as np\n",
    "\n",
    "# define the softrmax function\n",
    "def softmax(L):\n",
    "    expL = np.exp(L)\n",
    "    sumexpL = sum(expL)\n",
    "    result = []\n",
    "    for i in expL:\n",
    "        result.append(i * 1.0/sumexpL)\n",
    "    return result"
   ]
  },
  {
   "cell_type": "code",
   "execution_count": 6,
   "metadata": {},
   "outputs": [
    {
     "data": {
      "text/plain": [
       "[0.0015935603853804014,\n",
       " 0.08700544900787431,\n",
       " 0.03200751595988722,\n",
       " 0.2365053310150248,\n",
       " 0.6428881436318333]"
      ]
     },
     "execution_count": 6,
     "metadata": {},
     "output_type": "execute_result"
    }
   ],
   "source": [
    "#provide the list of numbers that you want to calculate softmax\n",
    "L = np.array([1,5,4,6,7])\n",
    "answer = softmax(L)\n",
    "answer"
   ]
  },
  {
   "cell_type": "code",
   "execution_count": null,
   "metadata": {},
   "outputs": [],
   "source": []
  }
 ],
 "metadata": {
  "kernelspec": {
   "display_name": "Python 3",
   "language": "python",
   "name": "python3"
  },
  "language_info": {
   "codemirror_mode": {
    "name": "ipython",
    "version": 3
   },
   "file_extension": ".py",
   "mimetype": "text/x-python",
   "name": "python",
   "nbconvert_exporter": "python",
   "pygments_lexer": "ipython3",
   "version": "3.6.4"
  }
 },
 "nbformat": 4,
 "nbformat_minor": 2
}
